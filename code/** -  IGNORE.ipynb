{
 "cells": [
  {
   "cell_type": "code",
   "execution_count": 66,
   "id": "0db7c4b8-e0c9-4240-84b7-0c48cc20db2a",
   "metadata": {},
   "outputs": [],
   "source": [
    "import pandas as pd\n",
    "import numpy as np\n",
    "import matplotlib.pyplot as plt\n",
    "import seaborn as sns\n",
    "\n",
    "from sklearn.model_selection import train_test_split, cross_val_score\n",
    "from sklearn.linear_model import LinearRegression\n",
    "from sklearn.preprocessing import StandardScaler, PolynomialFeatures"
   ]
  },
  {
   "cell_type": "code",
   "execution_count": 67,
   "id": "f27427f4-3043-48ae-acf6-b8371e41fd7b",
   "metadata": {},
   "outputs": [],
   "source": [
    "df = pd.read_csv('../datasets/train.csv')\n",
    "\n",
    "tf = pd.read_csv('../datasets/test.csv')\n",
    "\n",
    "pd.options.display.max_columns = None\n",
    "pd.options.display.max_rows = None"
   ]
  },
  {
   "cell_type": "code",
   "execution_count": null,
   "id": "b832054c-f467-4b0d-9046-3c529fd23182",
   "metadata": {},
   "outputs": [],
   "source": []
  },
  {
   "cell_type": "code",
   "execution_count": 64,
   "id": "2ba9649a-a955-4e04-a988-476c69846714",
   "metadata": {},
   "outputs": [],
   "source": [
    "df['Age'] = df['Yr Sold'] - df['Year Built']\n",
    "df['Age'] = df['Age'].map(lambda i: 0 if i < 0 else i)\n",
    "\n",
    "df['bad_cond'] = df['Condition 1'].map(lambda i: 0 if i == 'Norm' or i == 'PosA' or i == 'PosB' else 1)\n",
    "df['good_cond'] = df['Condition 1'].map(lambda i: 1 if i == 'PosA' or i == 'PosB' else 0)\n",
    "\n",
    "df['last_mod'] = df['Yr Sold'] - df['Year Remod/Add']\n",
    "df['tot_bath'] = df['Full Bath'] + 0.5*df['Half Bath'] + df['Bsmt Full Bath'] + 0.5*df['Bsmt Half Bath']"
   ]
  },
  {
   "cell_type": "code",
   "execution_count": 61,
   "id": "593a1eeb-a204-49e8-b9e0-c4fec76c5119",
   "metadata": {},
   "outputs": [
    {
     "data": {
      "text/plain": [
       "(2051, 87)"
      ]
     },
     "execution_count": 61,
     "metadata": {},
     "output_type": "execute_result"
    }
   ],
   "source": [
    "df.shape"
   ]
  },
  {
   "cell_type": "code",
   "execution_count": 8,
   "id": "3edbc8ae-bfa9-4220-89c0-7f669beeb43d",
   "metadata": {},
   "outputs": [],
   "source": [
    "features = ['MS Zoning', 'Street', 'Lot Frontage', 'Lot Area','bad_cond','good_cond','Overall Qual','Overall Cond', 'Age', 'last_mod', 'tot_bath', 'Mas Vnr Area', 'Garage Area', 'Garage Cars', 'Exterior 1st', 'Bldg Type', 'House Style', 'Lot Config', 'Exter Qual', 'Exter Cond', 'Bsmt Qual', 'Bsmt Cond', 'Foundation', 'Central Air', 'Heating QC', 'Kitchen Qual', 'Lot Shape', 'Functional', 'Land Slope', 'Roof Matl', 'Paved Drive', 'Wood Deck SF', 'Open Porch SF', 'Pool Area', 'Pool QC', 'Fence', 'Misc Val', 'Sale Type','1st Flr SF', 'total_SF']"
   ]
  },
  {
   "cell_type": "code",
   "execution_count": 9,
   "id": "ecf40369-a961-4306-8dd0-9f6e176c7619",
   "metadata": {},
   "outputs": [
    {
     "name": "stderr",
     "output_type": "stream",
     "text": [
      "/var/folders/pc/lsgqb75x77dd_xgf_x2gtsdh0000gn/T/ipykernel_3225/973775441.py:4: SettingWithCopyWarning: \n",
      "A value is trying to be set on a copy of a slice from a DataFrame.\n",
      "Try using .loc[row_indexer,col_indexer] = value instead\n",
      "\n",
      "See the caveats in the documentation: https://pandas.pydata.org/pandas-docs/stable/user_guide/indexing.html#returning-a-view-versus-a-copy\n",
      "  X['Lot Frontage'] = X['Lot Frontage'].map(lambda i: 1 if i == 0 else i)\n"
     ]
    }
   ],
   "source": [
    "X = df[features]\n",
    "y = df['SalePrice']\n",
    "\n",
    "X['Lot Frontage'] = X['Lot Frontage'].map(lambda i: 1 if i == 0 else i)\n",
    "X = pd.get_dummies(data = X, columns = ['MS Zoning', 'Street', 'Exterior 1st','Bldg Type', 'House Style', 'Lot Config', 'Foundation', 'Central Air', 'Roof Matl', 'Sale Type'], drop_first = True)"
   ]
  },
  {
   "cell_type": "code",
   "execution_count": 69,
   "id": "1a0dfbfc-3504-4368-88de-b944324e798b",
   "metadata": {},
   "outputs": [],
   "source": [
    "X['lot_fr*Lot_ar'] = X['Lot Frontage'] * X['Lot Area']\n",
    "X['overall**'] = X['Overall Qual'] * X['Overall Cond']\n",
    "X['gar_area*cars'] = X['Garage Area'] * X['Garage Cars']\n",
    "X['age*mod'] = X['Age'] * X['last_mod']\n",
    "X['exter_qual*cond'] = X['Exter Qual']* X['Exter Cond']\n",
    "X['bsmt_qual*cond'] = X['Bsmt Qual']* X['Bsmt Cond']\n",
    "X['tot*1st_sf'] = X['total_SF']*X['1st Flr SF']\n",
    "X['deck*porch'] = X['Wood Deck SF'] * X['Open Porch SF']"
   ]
  },
  {
   "cell_type": "code",
   "execution_count": 70,
   "id": "2e9922b3-8d4c-49c1-a763-16e79d3251a1",
   "metadata": {},
   "outputs": [],
   "source": [
    "lr = LinearRegression()"
   ]
  },
  {
   "cell_type": "code",
   "execution_count": 71,
   "id": "1954f0d6-7583-4ae8-9a4b-e11998b91b97",
   "metadata": {},
   "outputs": [],
   "source": [
    "X_train, X_test, y_train, y_test = train_test_split(X, y, random_state = 8)"
   ]
  },
  {
   "cell_type": "code",
   "execution_count": 72,
   "id": "587528f5-5dea-4680-84c2-f85602976e7b",
   "metadata": {},
   "outputs": [
    {
     "data": {
      "text/plain": [
       "LinearRegression()"
      ]
     },
     "execution_count": 72,
     "metadata": {},
     "output_type": "execute_result"
    }
   ],
   "source": [
    "lr.fit(X_train, y_train)"
   ]
  },
  {
   "cell_type": "code",
   "execution_count": 73,
   "id": "70c13739-1fae-4a0e-a09b-cd3ecb2d3e6b",
   "metadata": {},
   "outputs": [
    {
     "data": {
      "text/plain": [
       "0.9016680888376937"
      ]
     },
     "execution_count": 73,
     "metadata": {},
     "output_type": "execute_result"
    }
   ],
   "source": [
    "lr.score(X_train, y_train)"
   ]
  },
  {
   "cell_type": "code",
   "execution_count": 74,
   "id": "85777b90-573b-43ee-adfd-ee672f9460ba",
   "metadata": {},
   "outputs": [
    {
     "data": {
      "text/plain": [
       "0.5803118353111743"
      ]
     },
     "execution_count": 74,
     "metadata": {},
     "output_type": "execute_result"
    }
   ],
   "source": [
    "lr.score(X_test, y_test)"
   ]
  },
  {
   "cell_type": "code",
   "execution_count": 75,
   "id": "026aab22-25c9-40be-b4a9-3ebbea790cd4",
   "metadata": {},
   "outputs": [
    {
     "data": {
      "text/plain": [
       "0.5548733706059051"
      ]
     },
     "execution_count": 75,
     "metadata": {},
     "output_type": "execute_result"
    }
   ],
   "source": [
    "cross_val_score(lr, X_train, y_train).mean()"
   ]
  },
  {
   "cell_type": "code",
   "execution_count": 76,
   "id": "6235ab5b-bcce-4381-afff-c56d0a4b0f9f",
   "metadata": {},
   "outputs": [],
   "source": [
    "resids = y_test - lr.predict(X_test)"
   ]
  },
  {
   "cell_type": "code",
   "execution_count": 77,
   "id": "bb6b5fe2-1e9f-4e4b-b33b-e02436aaec1f",
   "metadata": {},
   "outputs": [
    {
     "data": {
      "text/plain": [
       "53425.61171399558"
      ]
     },
     "execution_count": 77,
     "metadata": {},
     "output_type": "execute_result"
    }
   ],
   "source": [
    "np.sqrt((resids**2).sum()/len(resids))"
   ]
  },
  {
   "cell_type": "code",
   "execution_count": 65,
   "id": "ab5ebfa0-0b6e-4f6f-beea-fecd4fdd2ace",
   "metadata": {},
   "outputs": [
    {
     "name": "stderr",
     "output_type": "stream",
     "text": [
      "/var/folders/pc/lsgqb75x77dd_xgf_x2gtsdh0000gn/T/ipykernel_3225/780760148.py:10: SettingWithCopyWarning: \n",
      "A value is trying to be set on a copy of a slice from a DataFrame.\n",
      "Try using .loc[row_indexer,col_indexer] = value instead\n",
      "\n",
      "See the caveats in the documentation: https://pandas.pydata.org/pandas-docs/stable/user_guide/indexing.html#returning-a-view-versus-a-copy\n",
      "  tf_X['Lot Frontage'] = tf_X['Lot Frontage'].map(lambda i: 1 if i == 0 else i)\n"
     ]
    }
   ],
   "source": [
    "tf['Age'] = tf['Yr Sold'] - tf['Year Built']\n",
    "tf['Age'] = tf['Age'].map(lambda i: 0 if i < 0 else i)\n",
    "tf['bad_cond'] = tf['Condition 1'].map(lambda i: 0 if i == 'Norm' or i == 'PosA' or i == 'PosB' else 1)\n",
    "tf['good_cond'] = tf['Condition 1'].map(lambda i: 1 if i == 'PosA' or i == 'PosB' else 0)\n",
    "tf['last_mod'] = tf['Yr Sold'] - tf['Year Remod/Add']\n",
    "tf['tot_bath'] = tf['Full Bath'] + 0.5*tf['Half Bath'] + tf['Bsmt Full Bath'] + 0.5*tf['Bsmt Half Bath']\n",
    "\n",
    "tf_X = tf[features]\n",
    "\n",
    "tf_X['Lot Frontage'] = tf_X['Lot Frontage'].map(lambda i: 1 if i == 0 else i)\n",
    "tf_X = pd.get_dummies(data = tf_X, columns = ['MS Zoning', 'Street', 'Exterior 1st','Bldg Type', 'House Style', 'Lot Config', 'Foundation', 'Central Air', 'Roof Matl', 'Sale Type'], drop_first = True)\n",
    "\n",
    "tf_X['lot_fr*Lot_ar'] = tf_X['Lot Frontage'] * tf_X['Lot Area']\n",
    "tf_X['overall**'] = tf_X['Overall Qual'] * tf_X['Overall Cond']\n",
    "tf_X['gar_area*cars'] = tf_X['Garage Area'] * tf_X['Garage Cars']\n",
    "tf_X['age*mod'] = tf_X['Age'] * tf_X['last_mod']\n",
    "tf_X['exter_qual*cond'] = tf_X['Exter Qual']* tf_X['Exter Cond']\n",
    "tf_X['bsmt_qual*cond'] = tf_X['Bsmt Qual']* tf_X['Bsmt Cond']\n",
    "tf_X['tot*1st_sf'] = tf_X['total_SF']*tf_X['1st Flr SF']\n",
    "tf_X['deck*porch'] = tf_X['Wood Deck SF'] * tf_X['Open Porch SF']"
   ]
  },
  {
   "cell_type": "code",
   "execution_count": 131,
   "id": "32f7de53-9a22-46f1-bdfc-21fac6705263",
   "metadata": {},
   "outputs": [],
   "source": [
    "for i in tf_X.columns:\n",
    "    if i not in X.columns:\n",
    "        X[i] = 0\n",
    "        \n",
    "for i in X.columns:\n",
    "    if i not in tf_X.columns:\n",
    "        tf_X[i] = 0\n",
    "        \n",
    "tf_X = tf_X[X.columns]"
   ]
  },
  {
   "cell_type": "code",
   "execution_count": 141,
   "id": "6778e6d2-c68a-4203-94da-a3772e2ea23e",
   "metadata": {},
   "outputs": [],
   "source": [
    "model = LinearRegression()\n",
    "\n",
    "model.fit(X, y)\n",
    "\n",
    "predictions = model.predict(tf_X)\n",
    "\n",
    "tf['SalePrice'] = predictions\n",
    "\n",
    "tf[['Id', 'SalePrice']].to_csv('../datasets/take_.csv', index = False)"
   ]
  },
  {
   "cell_type": "code",
   "execution_count": null,
   "id": "6f72334b-542c-48cb-9fc7-2a7abb074c52",
   "metadata": {},
   "outputs": [],
   "source": []
  },
  {
   "cell_type": "code",
   "execution_count": null,
   "id": "22cd58ab-7e49-42de-804d-8ccca3fb5ba6",
   "metadata": {},
   "outputs": [],
   "source": []
  },
  {
   "cell_type": "code",
   "execution_count": null,
   "id": "7d137591-7295-487d-8db9-322010756772",
   "metadata": {},
   "outputs": [],
   "source": []
  }
 ],
 "metadata": {
  "kernelspec": {
   "display_name": "Python 3 (ipykernel)",
   "language": "python",
   "name": "python3"
  },
  "language_info": {
   "codemirror_mode": {
    "name": "ipython",
    "version": 3
   },
   "file_extension": ".py",
   "mimetype": "text/x-python",
   "name": "python",
   "nbconvert_exporter": "python",
   "pygments_lexer": "ipython3",
   "version": "3.9.13"
  }
 },
 "nbformat": 4,
 "nbformat_minor": 5
}
